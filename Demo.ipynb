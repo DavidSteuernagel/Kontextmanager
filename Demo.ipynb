{
 "cells": [
  {
   "cell_type": "code",
   "execution_count": 1,
   "id": "27376b70-eabf-4216-b009-b4dd5c47b16f",
   "metadata": {},
   "outputs": [
    {
     "name": "stdout",
     "output_type": "stream",
     "text": [
      "Vergangene Zeit: 0.0759 Sekunden\n"
     ]
    }
   ],
   "source": [
    "import time                                        # time-modul wird importiert, um die aktuelle Zeit zu messen\n",
    "\n",
    "class Timer:                                       # neue Klasse wird erstellt, kann später verwendet werde, um, die Zeit zu messen\n",
    "    def __enter__(self):                           # startet die Zeitmessung\n",
    "        self.start=time.time()                     # speichert den aktuellen Zeitpunkt\n",
    "        return self                                # gibt das Timer-Objekt zurück ->with-Block als t ansprechbar\n",
    "\n",
    "    def __exit__(self, exc_type, exc_val, exc_tb): # wird automatisch ausgeführt,\n",
    "                                                   # wenn der with Block endet, trotz möglicher Fehler\n",
    "                                                   # exc_type, exc_val, exc_tb sind Standardparameter, die für die Fehlerbehandlung\n",
    "                                                   #-> werden hier nicht verwendet, müssen aber trotzdem vorhanden sein\n",
    "        self.end=time.time()                       #speichert wieder den aktuellen Zeitpunkt\n",
    "        print (f'Vergangene Zeit: {self.end-self.start:.4f} Sekunden')# berechnet den Unterschied zwischen den beiden Zeiten und\n",
    "                                                                      # rundet auf 4 Nachkommastellen und gibt ihn aus\n",
    "\n",
    "with Timer () as t:\n",
    "    sorted([x for x in range(1000000, 0, -1)])\n",
    "\n",
    "# hier wird automatisch __enter__ () aufgerufen und die Startzeit gemessen\n",
    "# Der Codeblock, in diesem Fall die Schleife, wird ausgeführt\n",
    "# dann wird automatisch __exit__() aufgerufen, die Endzeit gemessen, und die Differenz der beiden Zeiten wird ausgegeben"
   ]
  }
 ],
 "metadata": {
  "kernelspec": {
   "display_name": "Python 3 (ipykernel)",
   "language": "python",
   "name": "python3"
  },
  "language_info": {
   "codemirror_mode": {
    "name": "ipython",
    "version": 3
   },
   "file_extension": ".py",
   "mimetype": "text/x-python",
   "name": "python",
   "nbconvert_exporter": "python",
   "pygments_lexer": "ipython3",
   "version": "3.11.12"
  }
 },
 "nbformat": 4,
 "nbformat_minor": 5
}
